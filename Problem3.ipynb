{
 "cells": [
  {
   "cell_type": "markdown",
   "id": "1b472370",
   "metadata": {},
   "source": [
    "#### Transportation Problem"
   ]
  },
  {
   "cell_type": "code",
   "execution_count": 1,
   "id": "db065009",
   "metadata": {},
   "outputs": [],
   "source": [
    "import sys\n",
    "sys.setrecursionlimit(10000)\n",
    "\n",
    "# Model (search problem)\n",
    "class TransportationProblem(object):\n",
    "    def __init__(self, N,weights):\n",
    "        # N = number of blocks\n",
    "        self.N = N\n",
    "        self.weights=weights\n",
    "\n",
    "    def startState(self):\n",
    "        return 1\n",
    "\n",
    "    def isEnd(self, state):\n",
    "        return state == self.N\n",
    "\n",
    "    def succAndCost(self, state):\n",
    "        # return list of (action, newState, cost) triples\n",
    "        result = []\n",
    "        if state + 1 <= self.N:\n",
    "            result.append(('walk', state + 1, self.weights['walk']))  # Walking cost: 1\n",
    "        if state + 3 <= self.N:\n",
    "            result.append(('run', state + 3, self.weights['run']))  # Running cost: 1.5\n",
    "        if state * 2 <= self.N:\n",
    "            result.append(('tram', state * 2, self.weights['tram']))  # Tram cost: 2\n",
    "        return result"
   ]
  },
  {
   "cell_type": "code",
   "execution_count": 2,
   "id": "bb8e7c1b",
   "metadata": {},
   "outputs": [],
   "source": [
    "def printSolution(solution):\n",
    "    totalCost, history = solution\n",
    "    print('totalCost: {}'.format(totalCost))\n",
    "    for item in history:\n",
    "        print(item)\n"
   ]
  },
  {
   "cell_type": "markdown",
   "id": "86455af2",
   "metadata": {},
   "source": [
    "#### UCS"
   ]
  },
  {
   "cell_type": "code",
   "execution_count": 3,
   "id": "196e8bcf",
   "metadata": {},
   "outputs": [],
   "source": [
    "import heapq\n",
    "\n",
    "def uniformCostSearch(problem):\n",
    "    heap = [(0, problem.startState(), [])]\n",
    "    bestCost = float('inf')\n",
    "    bestPath = []\n",
    "\n",
    "    while heap:\n",
    "        totalCost, state, history = heapq.heappop(heap)\n",
    "\n",
    "        if problem.isEnd(state) and len(history) > 0:\n",
    "            if totalCost < bestCost:\n",
    "                bestCost = totalCost\n",
    "                bestPath = history\n",
    "            continue\n",
    "\n",
    "        for action, newState, cost in problem.succAndCost(state):\n",
    "            newCost = totalCost + cost\n",
    "            heapq.heappush(heap, (newCost, newState, history + [(action, newState, cost)]))\n",
    "\n",
    "    return (bestCost, bestPath)\n",
    "\n"
   ]
  },
  {
   "cell_type": "code",
   "execution_count": 4,
   "id": "c25f5b96",
   "metadata": {},
   "outputs": [
    {
     "name": "stdout",
     "output_type": "stream",
     "text": [
      "training dataset: \n",
      "  (1, [])\n",
      "  (2, ['walk'])\n",
      "  (3, ['walk', 'walk'])\n",
      "  (4, ['run'])\n",
      "  (5, ['run', 'walk'])\n",
      "  (6, ['run', 'walk', 'walk'])\n",
      "  (7, ['run', 'run'])\n",
      "  (8, ['run', 'tram'])\n",
      "  (9, ['run', 'tram', 'walk'])\n",
      "  (10, ['run', 'run', 'run'])\n",
      "  (11, ['run', 'tram', 'run'])\n",
      "  (12, ['run', 'walk', 'walk', 'tram'])\n",
      "  (13, ['run', 'run', 'run', 'run'])\n",
      "  (14, ['run', 'run', 'tram'])\n",
      "  (15, ['run', 'run', 'tram', 'walk'])\n",
      "  (16, ['run', 'tram', 'tram'])\n",
      "  (17, ['run', 'run', 'tram', 'run'])\n",
      "  (18, ['run', 'tram', 'walk', 'tram'])\n",
      "  (19, ['run', 'tram', 'tram', 'run'])\n",
      "Iteration 0, numMistakes= 5, weights= {'walk': 1, 'run': 1, 'tram': 1}\n",
      "Iteration 1, numMistakes= 5, weights= {'walk': 2, 'run': 2, 'tram': 2}\n",
      "Iteration 2, numMistakes= 4, weights= {'walk': 2, 'run': 2, 'tram': 3}\n",
      "Iteration 3, numMistakes= 3, weights= {'walk': 5, 'run': 2, 'tram': 3}\n",
      "Iteration 4, numMistakes= 7, weights= {'walk': 5, 'run': 4, 'tram': 4}\n",
      "Iteration 5, numMistakes= 5, weights= {'walk': 5, 'run': 5, 'tram': 5}\n",
      "Iteration 6, numMistakes= 1, weights= {'walk': 4, 'run': 5, 'tram': 6}\n",
      "Iteration 7, numMistakes= 0, weights= {'walk': 4, 'run': 5, 'tram': 6}\n"
     ]
    }
   ],
   "source": [
    "def predict(N,weights):\n",
    "    #     Input (x) : N (number of blocks)\n",
    "    #     Output (y) : path (sequence of actions) \n",
    "    problem= TransportationProblem(N,weights)\n",
    "    totalCost, history= uniformCostSearch(problem)\n",
    "    return [action for action, newState, cost in history]\n",
    "\n",
    "\n",
    "def generateExamples():\n",
    "    trueWeights= {'walk': 1, 'run': 1.5,'tram': 2}\n",
    "    return [(N, predict(N, trueWeights)) for N in range(1,20)]\n",
    "\n",
    "def structuredPerceptron(examples):\n",
    "    weights = {'walk':0, 'run':0 , 'tram':0}\n",
    "    for t in range(100):\n",
    "        numMistakes = 0\n",
    "        for N, trueActions in examples:\n",
    "            predActions = predict(N, weights)\n",
    "            #predActions is y` , trueActions is y\n",
    "            if predActions != trueActions:\n",
    "                numMistakes +=1\n",
    "            for action in trueActions:\n",
    "                weights[action] -= 1\n",
    "            for action in predActions:\n",
    "                weights[action] +=1\n",
    "        print(f\"Iteration {t}, numMistakes= {numMistakes}, weights= {weights}\")\n",
    "        if numMistakes == 0:\n",
    "            break\n",
    "        \n",
    "        \n",
    "    \n",
    "examples = generateExamples()\n",
    "\n",
    "print(\"training dataset: \")\n",
    "for example in examples:\n",
    "    print(' ', example)\n",
    "    \n",
    "structuredPerceptron(examples)"
   ]
  },
  {
   "cell_type": "code",
   "execution_count": null,
   "id": "107f3eb7",
   "metadata": {},
   "outputs": [],
   "source": []
  }
 ],
 "metadata": {
  "kernelspec": {
   "display_name": "Python 3 (ipykernel)",
   "language": "python",
   "name": "python3"
  },
  "language_info": {
   "codemirror_mode": {
    "name": "ipython",
    "version": 3
   },
   "file_extension": ".py",
   "mimetype": "text/x-python",
   "name": "python",
   "nbconvert_exporter": "python",
   "pygments_lexer": "ipython3",
   "version": "3.10.9"
  }
 },
 "nbformat": 4,
 "nbformat_minor": 5
}
