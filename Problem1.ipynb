{
 "cells": [
  {
   "cell_type": "markdown",
   "id": "72836a75",
   "metadata": {},
   "source": [
    "## Problem 1 : Transportation Problem"
   ]
  },
  {
   "cell_type": "code",
   "execution_count": 3,
   "id": "a632491d",
   "metadata": {},
   "outputs": [],
   "source": [
    "import sys\n",
    "sys.setrecursionlimit(10000)\n",
    "\n",
    "# Model (search problem)\n",
    "class TransportationProblem(object):\n",
    "    def __init__(self, N):\n",
    "        # N = number of blocks\n",
    "        self.N = N\n",
    "\n",
    "    def startState(self):\n",
    "        return 1\n",
    "\n",
    "    def isEnd(self, state):\n",
    "        return state == self.N\n",
    "\n",
    "    def succAndCost(self, state):\n",
    "        # return list of (action, newState, cost) triples\n",
    "        result = []\n",
    "        if state + 1 <= self.N:\n",
    "            result.append(('walk', state + 1, 1))  # Walking cost: 1\n",
    "        if state + 3 <= self.N:\n",
    "            result.append(('run', state + 3, 1.5))  # Running cost: 1.5\n",
    "        if state * 2 <= self.N:\n",
    "            result.append(('tram', state * 2, 2))  # Tram cost: 2\n",
    "        return result"
   ]
  },
  {
   "cell_type": "code",
   "execution_count": 5,
   "id": "7546da63",
   "metadata": {},
   "outputs": [],
   "source": [
    "def printSolution(solution):\n",
    "    totalCost, history = solution\n",
    "    print('totalCost: {}'.format(totalCost))\n",
    "    for item in history:\n",
    "        print(item)\n"
   ]
  },
  {
   "cell_type": "markdown",
   "id": "10540267",
   "metadata": {},
   "source": [
    "### DFS"
   ]
  },
  {
   "cell_type": "code",
   "execution_count": 6,
   "id": "447977e2",
   "metadata": {},
   "outputs": [],
   "source": [
    "def depthFirstSearch(problem):\n",
    "    best = {\n",
    "        'cost': float('+inf'),\n",
    "        'history': None\n",
    "    }\n",
    "    \n",
    "    def recurse(state, history, totalCost):\n",
    "        if problem.isEnd(state):\n",
    "            if totalCost < best['cost']:\n",
    "                best['cost'] = totalCost\n",
    "                best['history'] = history\n",
    "            return\n",
    "        for action, newState, cost in problem.succAndCost(state):\n",
    "            recurse(newState, history + [(action, newState, cost)], totalCost + cost)\n",
    "    \n",
    "    recurse(problem.startState(), history=[], totalCost=0)\n",
    "    return (best['cost'], best['history'])\n"
   ]
  },
  {
   "cell_type": "markdown",
   "id": "d47ca811",
   "metadata": {},
   "source": [
    "### BFS"
   ]
  },
  {
   "cell_type": "code",
   "execution_count": 7,
   "id": "f3924529",
   "metadata": {},
   "outputs": [],
   "source": [
    "from collections import deque\n",
    "def breadthFirstSearch(problem):\n",
    "    best = {\n",
    "        'cost': float('+inf'),\n",
    "        'history': None\n",
    "    }\n",
    "    \n",
    "    queue = deque([(problem.startState(), [])])\n",
    "\n",
    "    while queue:\n",
    "        state, history = queue.popleft()\n",
    "\n",
    "        if problem.isEnd(state) and len(history) > 0:\n",
    "            totalCost = sum(cost for _, _, cost in history)\n",
    "            if totalCost < best['cost']:\n",
    "                best['cost'] = totalCost\n",
    "                best['history'] = history\n",
    "            continue\n",
    "\n",
    "        for action, newState, cost in problem.succAndCost(state):\n",
    "            queue.append((newState, history + [(action, newState, cost)]))\n",
    "\n",
    "    return (best['cost'], best['history'])\n"
   ]
  },
  {
   "cell_type": "markdown",
   "id": "d2a88738",
   "metadata": {},
   "source": [
    "### Dynamic Programming"
   ]
  },
  {
   "cell_type": "code",
   "execution_count": 20,
   "id": "2fc70993",
   "metadata": {},
   "outputs": [],
   "source": [
    "def dynamicProgramming(problem):\n",
    "    cache = {}  # state -> (futureCost(state), action)\n",
    "\n",
    "    def futureCost(state):\n",
    "        if problem.isEnd(state):\n",
    "            return 0, None\n",
    "\n",
    "        if state in cache:\n",
    "            return cache[state]\n",
    "\n",
    "        minCost = float('inf')\n",
    "        bestAction = None\n",
    "\n",
    "        for action, newState, cost in problem.succAndCost(state):\n",
    "            future, _ = futureCost(newState)\n",
    "            totalCost = cost + future\n",
    "\n",
    "            if totalCost < minCost:\n",
    "                minCost = totalCost\n",
    "                bestAction = action\n",
    "\n",
    "        cache[state] = minCost, bestAction\n",
    "        return minCost, bestAction\n",
    "\n",
    "    totalCost, bestAction = futureCost(problem.startState())\n",
    "\n",
    "    # Track the sequence of actions and states with their respective costs\n",
    "    history = []\n",
    "    state = problem.startState()\n",
    "    while state != problem.N and bestAction:\n",
    "        for action, newState, cost in problem.succAndCost(state):\n",
    "            if action == bestAction:\n",
    "                history.append((action, newState, cost))\n",
    "                state = newState\n",
    "                break\n",
    "        _, bestAction = futureCost(state)\n",
    "\n",
    "    return totalCost, history\n"
   ]
  },
  {
   "cell_type": "markdown",
   "id": "6c6835da",
   "metadata": {},
   "source": [
    "### UCS"
   ]
  },
  {
   "cell_type": "code",
   "execution_count": 9,
   "id": "4f7dd06a",
   "metadata": {},
   "outputs": [],
   "source": [
    "import heapq\n",
    "\n",
    "def uniformCostSearch(problem):\n",
    "    heap = [(0, problem.startState(), [])]\n",
    "    bestCost = float('inf')\n",
    "    bestPath = []\n",
    "\n",
    "    while heap:\n",
    "        totalCost, state, history = heapq.heappop(heap)\n",
    "\n",
    "        if problem.isEnd(state) and len(history) > 0:\n",
    "            if totalCost < bestCost:\n",
    "                bestCost = totalCost\n",
    "                bestPath = history\n",
    "            continue\n",
    "\n",
    "        for action, newState, cost in problem.succAndCost(state):\n",
    "            newCost = totalCost + cost\n",
    "            heapq.heappush(heap, (newCost, newState, history + [(action, newState, cost)]))\n",
    "\n",
    "    return (bestCost, bestPath)\n",
    "\n"
   ]
  },
  {
   "cell_type": "code",
   "execution_count": 28,
   "id": "6cc4cd7c",
   "metadata": {},
   "outputs": [],
   "source": [
    "# Problem\n",
    "problem = TransportationProblem(N=23)"
   ]
  },
  {
   "cell_type": "code",
   "execution_count": 29,
   "id": "a70be626",
   "metadata": {},
   "outputs": [
    {
     "name": "stdout",
     "output_type": "stream",
     "text": [
      "totalCost: 8.0\n",
      "('walk', 2, 1)\n",
      "('run', 5, 1.5)\n",
      "('tram', 10, 2)\n",
      "('tram', 20, 2)\n",
      "('run', 23, 1.5)\n"
     ]
    }
   ],
   "source": [
    "# Test DFS\n",
    "printSolution(depthFirstSearch(problem))"
   ]
  },
  {
   "cell_type": "code",
   "execution_count": 30,
   "id": "5b5557df",
   "metadata": {},
   "outputs": [
    {
     "name": "stdout",
     "output_type": "stream",
     "text": [
      "totalCost: 8.0\n",
      "('walk', 2, 1)\n",
      "('run', 5, 1.5)\n",
      "('tram', 10, 2)\n",
      "('tram', 20, 2)\n",
      "('run', 23, 1.5)\n"
     ]
    }
   ],
   "source": [
    "# Test BFS\n",
    "printSolution(breadthFirstSearch(problem))"
   ]
  },
  {
   "cell_type": "code",
   "execution_count": 31,
   "id": "b70c8fe1",
   "metadata": {},
   "outputs": [
    {
     "name": "stdout",
     "output_type": "stream",
     "text": [
      "totalCost: 8.0\n",
      "('run', 4, 1.5)\n",
      "('run', 7, 1.5)\n",
      "('run', 10, 1.5)\n",
      "('tram', 20, 2)\n",
      "('run', 23, 1.5)\n"
     ]
    }
   ],
   "source": [
    "# Test UCS\n",
    "printSolution(uniformCostSearch(problem))\n"
   ]
  },
  {
   "cell_type": "code",
   "execution_count": 32,
   "id": "3786ec5b",
   "metadata": {},
   "outputs": [
    {
     "name": "stdout",
     "output_type": "stream",
     "text": [
      "totalCost: 8.0\n",
      "('walk', 2, 1)\n",
      "('run', 5, 1.5)\n",
      "('tram', 10, 2)\n",
      "('tram', 20, 2)\n",
      "('run', 23, 1.5)\n"
     ]
    }
   ],
   "source": [
    "# Test DP\n",
    "printSolution(dynamicProgramming(problem))"
   ]
  },
  {
   "cell_type": "code",
   "execution_count": null,
   "id": "7c2299ef",
   "metadata": {},
   "outputs": [],
   "source": []
  }
 ],
 "metadata": {
  "kernelspec": {
   "display_name": "Python 3 (ipykernel)",
   "language": "python",
   "name": "python3"
  },
  "language_info": {
   "codemirror_mode": {
    "name": "ipython",
    "version": 3
   },
   "file_extension": ".py",
   "mimetype": "text/x-python",
   "name": "python",
   "nbconvert_exporter": "python",
   "pygments_lexer": "ipython3",
   "version": "3.10.9"
  }
 },
 "nbformat": 4,
 "nbformat_minor": 5
}
